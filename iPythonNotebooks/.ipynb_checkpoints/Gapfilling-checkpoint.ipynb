{
 "metadata": {
  "name": ""
 },
 "nbformat": 3,
 "nbformat_minor": 0,
 "worksheets": [
  {
   "cells": [
    {
     "cell_type": "markdown",
     "metadata": {},
     "source": [
      "# How to gapfill a genome scale metabolic model\n",
      "\n",
      "## Getting started\n",
      "\n",
      "### Installing libraries\n",
      "\n",
      "Before you start, you will need to install a couple of libraries:\n",
      "   \n",
      "The [ModelSeedDatabase](https://github.com/ModelSEED/ModelSEEDDatabase) has all the biochemistry we'll need. You can install that with `git clone`.\n",
      "   \n",
      "The [PyFBA](http://linsalrob.github.io/PyFBA) library has detailed [installation instructions](http://linsalrob.github.io/PyFBA/installation.html). Don't be scared, its mostly just `pip install`.\n",
      "\n",
      "(Optional) Also, get the [SEED Servers](https://github.com/linsalrob/SEED_Servers_Python) as you can get a lot of information from them. You can install the git python repo from github.  Make sure that the SEED_Servers_Python is in your PYTHONPATH.\n",
      "\n",
      "We start with importing some modules that we are going to use. \n",
      "\n",
      "We *import sys* so that we can use standard out and standard error if we have some error messages. We import copy so that we can make a deep copy of data structures for later comparisons.\n",
      "\n",
      "Then we import the PyFBA module to get started."
     ]
    },
    {
     "cell_type": "code",
     "collapsed": false,
     "input": [
      "import sys\n",
      "import copy\n",
      "\n",
      "import PyFBA"
     ],
     "language": "python",
     "metadata": {},
     "outputs": [],
     "prompt_number": 23
    },
    {
     "cell_type": "markdown",
     "metadata": {},
     "source": [
      "# Running an SBML model\n",
      "\n",
      "If you have run your genome through RAST, you can download the [SBML](http://www.sbml.org/) model and use that directly.\n",
      "\n",
      "We have provided an [SBML model of *Citrobacter sedlakii*](https://raw.githubusercontent.com/linsalrob/PyFBA/master/example_data/Citrobacter/Citrobacter_sedlakii.sbml) that you can download and use. You can right/ctrl click on this link and save the SBML file in the same location you are running this iPython notebook.\n",
      "\n",
      "We use this SBML model to demonstrate the key points of the FBA approach: defining the reactions, including the boundary, or drainflux, reactions; the compounds, including the drain compounds; the media; and the reaction bounds. \n",
      "\n",
      "We'll take it step by step!\n",
      "\n",
      "We start by parsing the model:\n",
      "\n"
     ]
    },
    {
     "cell_type": "code",
     "collapsed": false,
     "input": [
      "sbml = PyFBA.parse.parse_sbml_file('Citrobacter_sedlakii.sbml')"
     ],
     "language": "python",
     "metadata": {},
     "outputs": [],
     "prompt_number": 2
    },
    {
     "cell_type": "markdown",
     "metadata": {},
     "source": [
      "### Find all the reactions and identify those that are boundary reactions\n",
      "\n",
      "We need a set of reactions to run in the model. In this case, we are going to run all the reactions in our SBML file. However, you can change this set if you want to knock out reactions, add reactions, or generally modify the model. We store those in the `reactions_to_run` set.\n",
      "\n",
      "The boundary reactions are compounds that are secreted but then need to be removed from the model. We usually include a consumption of those compounds that is open ended, as if they are draining away. We store those reactions in the `uptake_secretion_reactions` dictionary.\n"
     ]
    },
    {
     "cell_type": "code",
     "collapsed": false,
     "input": [
      "# get a dict of reactions. The key is the reaction ID, and the value is a metabolism.reaction.Reaction object\n",
      "reactions = sbml.reactions\n",
      "reactions_to_run = set()\n",
      "uptake_secretion_reactions = {}\n",
      "biomass_equation = None\n",
      "for r in reactions:\n",
      "    if 'biomass_equation' in reactions[r].name.lower():\n",
      "        biomass_equation = reactions[r]\n",
      "        continue\n",
      "    is_boundary = False\n",
      "    for c in reactions[r].all_compounds():\n",
      "        if c.uptake_secretion:\n",
      "            is_boundary = True\n",
      "    if is_boundary:\n",
      "        reactions[r].is_uptake_secretion = True\n",
      "        uptake_secretion_reactions[r] = reactions[r]\n",
      "    else:\n",
      "        reactions_to_run.add(r)\n"
     ],
     "language": "python",
     "metadata": {},
     "outputs": [],
     "prompt_number": 3
    },
    {
     "cell_type": "markdown",
     "metadata": {},
     "source": [
      "At this point, we can take a look at how many reactions are in the model:"
     ]
    },
    {
     "cell_type": "code",
     "collapsed": false,
     "input": [
      "print(\"There are {} reactions in the model\".format(len(reactions)))\n",
      "print(\"There are {} uptake/secretion reactions in the model\".format(len(uptake_secretion_reactions)))\n",
      "print(\"There are {} reactions to be run in the model\".format(len(reactions_to_run)))"
     ],
     "language": "python",
     "metadata": {},
     "outputs": [
      {
       "output_type": "stream",
       "stream": "stdout",
       "text": [
        "There are 1574 reactions in the model\n",
        "There are 174 uptake/secretion reactions in the model\n",
        "There are 1399 reactions to be run in the model\n"
       ]
      }
     ],
     "prompt_number": 4
    },
    {
     "cell_type": "markdown",
     "metadata": {},
     "source": [
      "### Find all the compounds in the model, and filter out those that are secreted\n",
      "\n",
      "We need to filter out uptake and secretion compounds from our list of all compounds before we can make a stoichiometric matrix"
     ]
    },
    {
     "cell_type": "code",
     "collapsed": false,
     "input": [
      "# Get a dict of compounds. \n",
      "# The key is the string representation of the compound and the value is a metabolite.compound.Compound object\n",
      "all_compounds = sbml.compounds\n",
      "# filter for compounds that are boundary compounds\n",
      "filtered_compounds = {}\n",
      "for c in all_compounds:\n",
      "    if not all_compounds[c].uptake_secretion:\n",
      "        filtered_compounds[c] = all_compounds[c]"
     ],
     "language": "python",
     "metadata": {},
     "outputs": [],
     "prompt_number": 5
    },
    {
     "cell_type": "markdown",
     "metadata": {},
     "source": [
      "Again, we can see how many compounds there are in the model"
     ]
    },
    {
     "cell_type": "code",
     "collapsed": false,
     "input": [
      "print(\"There are {} total compounds in the model\".format(len(all_compounds)))\n",
      "print(\"There are {} compounds that are not involved in uptake and secretion\".format(len(filtered_compounds)))"
     ],
     "language": "python",
     "metadata": {},
     "outputs": [
      {
       "output_type": "stream",
       "stream": "stdout",
       "text": [
        "There are 1475 total compounds in the model\n",
        "There are 1301 compounds that are not involved in uptake and secretion\n"
       ]
      }
     ],
     "prompt_number": 6
    },
    {
     "cell_type": "markdown",
     "metadata": {},
     "source": [
      "And now we have the size of our stoichiometric matrix! Notice that the stoichiometric matrix is composed of the reactions that we are going to run and the compounds that are in those reactions (but not the uptake/secretion reactions and compounds)."
     ]
    },
    {
     "cell_type": "code",
     "collapsed": false,
     "input": [
      "print(\"The stoichiometric matrix will be {} reactions by {} compounds\".format(len(reactions_to_run), len(filtered_compounds)))"
     ],
     "language": "python",
     "metadata": {},
     "outputs": [
      {
       "output_type": "stream",
       "stream": "stdout",
       "text": [
        "The stoichiometric matrix will be 1399 reactions by 1301 compounds\n"
       ]
      }
     ],
     "prompt_number": 7
    },
    {
     "cell_type": "markdown",
     "metadata": {},
     "source": [
      "### Read the media file, and correct the media names\n",
      "\n",
      "In our [media](https://github.com/linsalrob/PyFBA/tree/master/media) directory, we have a lot of different media formulations, most of which we use with the Genotype-Phenotype project. For this example, we are going to use Lysogeny Broth (LB). There are many different formulations of LB, but we have included the recipe created by the folks at Argonne so that it is comparable with their analysis. You can download [ArgonneLB.txt](https://raw.githubusercontent.com/linsalrob/PyFBA/master/media/ArgonneLB.txt) and put it in the same directory as this iPython notebook to run it.\n",
      "\n",
      "Once we have read the file we need to correct the names in the compounds. Sometimes when compound names are exported to the SBML file they are modified slightly. This just corrects those names."
     ]
    },
    {
     "cell_type": "code",
     "collapsed": false,
     "input": [
      "# read the media file\n",
      "media = PyFBA.parse.read_media_file('ArgonneLB.txt')\n",
      "# correct the names\n",
      "media = PyFBA.parse.correct_media_names(media, all_compounds)"
     ],
     "language": "python",
     "metadata": {},
     "outputs": [],
     "prompt_number": 8
    },
    {
     "cell_type": "markdown",
     "metadata": {},
     "source": [
      "### Set the reaction bounds for uptake/secretion compounds\n",
      "\n",
      "The uptake and secretion compounds typically have reaction bounds that allow them to be consumed (i.e. diffuse away from the cell) but not produced. However, our media components can also increase in concentration (i.e. diffuse to the cell) and thus the bounds are set higher. Whenever you change the growth media, you also need to adjust the reaction bounds to ensure that the media can be consumed!\n"
     ]
    },
    {
     "cell_type": "code",
     "collapsed": false,
     "input": [
      "# adjust the lower bounds of uptake secretion reactions for things that are not in the media\n",
      "for u in uptake_secretion_reactions:\n",
      "    is_media_component = False\n",
      "    for c in uptake_secretion_reactions[u].all_compounds():\n",
      "        if c in media:\n",
      "            is_media_component = True\n",
      "    if not is_media_component:\n",
      "        reactions[u].lower_bound = 0.0\n",
      "        uptake_secretion_reactions[u].lower_bound = 0.0\n"
     ],
     "language": "python",
     "metadata": {},
     "outputs": [],
     "prompt_number": 9
    },
    {
     "cell_type": "markdown",
     "metadata": {},
     "source": [
      "### Run the FBA\n",
      "\n",
      "Now that we have constructed our model, we can run the FBA!"
     ]
    },
    {
     "cell_type": "code",
     "collapsed": false,
     "input": [
      "status, value, growth = PyFBA.fba.run_fba(filtered_compounds, reactions, reactions_to_run, media, biomass_equation,\n",
      "                                          uptake_secretion_reactions)\n",
      "print(\"The FBA completed with value; {} and growth: {}\".format(value, growth))\n"
     ],
     "language": "python",
     "metadata": {},
     "outputs": [
      {
       "output_type": "stream",
       "stream": "stdout",
       "text": [
        "The FBA completed with value; 281.841757437 and growth: True\n"
       ]
      }
     ],
     "prompt_number": 10
    },
    {
     "cell_type": "markdown",
     "metadata": {},
     "source": [
      "## Running a basic model\n",
      "\n",
      "The SBML model is great if you have built a model elsewhere, what about if you want to build a model from a genome.\n",
      "\n",
      "We typically start with an assigned_functions file from RAST. The easiest way to find that is in the RAST directory by choosing `Genome Directory` from the Downloads menu on the job details page.\n",
      "\n",
      "For this example, [here is an assigned_functions file](https://raw.githubusercontent.com/linsalrob/PyFBA/master/example_data/Citrobacter/ungapfilled_model/citrobacter.assigned_functions) from our *Citrobacter* model that you can download to the same directory as this iPython notebook. Notice that it has two columns, the first column is the protein ID (using SEED standard IDs that start with fig|, and then have the taxonomy ID and version number of the genome, and then peg to indicate *protein encoding gene*, rna to indicate *RNA*, crispr_spacer to indicate *crispr spacers* or other acronym, followed by the feature number. After the tab is the *functional role* of that feature. Download that file to use in this test. \n",
      "\n",
      "We start by converting this assigned_functions file to a list of reactions."
     ]
    },
    {
     "cell_type": "code",
     "collapsed": false,
     "input": [
      "# assigned functions is a dict of peg id and functional role\n",
      "assigned_functions = PyFBA.parse.read_assigned_functions('citrobacter.assigned_functions')\n",
      "# get a list of unique functional roles\n",
      "roles = set(assigned_functions.values())\n",
      "print(\"There are {} unique roles in this genome\".format(len(roles)))"
     ],
     "language": "python",
     "metadata": {},
     "outputs": [
      {
       "output_type": "stream",
       "stream": "stdout",
       "text": [
        "There are 3606 unique roles in this genome\n"
       ]
      }
     ],
     "prompt_number": 11
    },
    {
     "cell_type": "markdown",
     "metadata": {},
     "source": [
      "Convert those roles to reactions. We start with a dict of roles and reactions, but we only need a list of unique reactions, so we convert the keys to a set."
     ]
    },
    {
     "cell_type": "code",
     "collapsed": false,
     "input": [
      "roles_to_reactions = PyFBA.filters.roles_to_reactions(roles)\n",
      "reactions_to_run = set()\n",
      "for role in roles_to_reactions:\n",
      "    reactions_to_run.update(roles_to_reactions[role])\n",
      "print(\"There are {} unique reactions associated with this genome\".format(len(reactions_to_run)))"
     ],
     "language": "python",
     "metadata": {},
     "outputs": [
      {
       "output_type": "stream",
       "stream": "stdout",
       "text": [
        "There are 1305 unique reactions associated with this genome\n"
       ]
      }
     ],
     "prompt_number": 13
    },
    {
     "cell_type": "markdown",
     "metadata": {},
     "source": [
      "### Read all the reactions and compounds in our database\n",
      "\n",
      "We read all the reactions, compounds, and enzymes in the [ModelSEEDDatabase]() into three data structures. Each one is a dictionary with a string representation of the object as the key and the object as the value.\n",
      "\n",
      "We modify the reactions specifically for Gram negative models (there are also options for Gram positive models, Mycobacterial models, general microbial models, and plant models)."
     ]
    },
    {
     "cell_type": "code",
     "collapsed": false,
     "input": [
      "compounds, reactions, enzymes = PyFBA.parse.model_seed.compounds_reactions_enzymes('gramnegative')"
     ],
     "language": "python",
     "metadata": {},
     "outputs": [],
     "prompt_number": 14
    },
    {
     "cell_type": "markdown",
     "metadata": {},
     "source": [
      "#### Update reactions to run, making sure that all reactions are in the list!\n",
      "\n",
      "There are a very reactions that come from functional roles that do not appear in the reactions list. We're working on tracking these down, but for now we just check that all reaction IDs in *reactions_to_run* are in *reactions*, too."
     ]
    },
    {
     "cell_type": "code",
     "collapsed": false,
     "input": [
      "tempset = set()\n",
      "for r in reactions_to_run:\n",
      "    if r in reactions:\n",
      "        tempset.add(r)\n",
      "    else:\n",
      "        sys.stderr.write(\"Reaction ID {} is not in our reactions list. Skipped\\n\".format(r))\n",
      "reactions_to_run = tempset"
     ],
     "language": "python",
     "metadata": {},
     "outputs": [
      {
       "output_type": "stream",
       "stream": "stderr",
       "text": [
        "Reaction ID rxn37218 is not in our reactions list. Skipped\n"
       ]
      }
     ],
     "prompt_number": 16
    },
    {
     "cell_type": "markdown",
     "metadata": {},
     "source": [
      "### Test whether these reactions grow on ArgonneLB\n",
      "\n",
      "We can test whether this set of reactions grows on ArgonneLB media. The media is the same one we used above, and you can download the [ArgonneLB.txt](https://raw.githubusercontent.com/linsalrob/PyFBA/master/media/ArgonneLB.txt) and text file and put it in the same directory as this iPython notebook to run it.\n",
      "\n",
      "(Note: unlike above, we don't need to convert the media components, because the media and compounds come from the same source.)"
     ]
    },
    {
     "cell_type": "code",
     "collapsed": false,
     "input": [
      "media = PyFBA.parse.read_media_file('ArgonneLB.txt')\n",
      "print(\"Our media has {} components.\".format(len(media)))"
     ],
     "language": "python",
     "metadata": {},
     "outputs": [
      {
       "output_type": "stream",
       "stream": "stdout",
       "text": [
        "Our media has 65 components.\n"
       ]
      }
     ],
     "prompt_number": 17
    },
    {
     "cell_type": "markdown",
     "metadata": {},
     "source": [
      "### Define a biomass equation\n",
      "\n",
      "The biomass equation is the part that says whether the model will grow! This is a [metabolism.reaction.Reaction](https://github.com/linsalrob/PyFBA/blob/master/PyFBA/metabolism/reaction.py) object."
     ]
    },
    {
     "cell_type": "code",
     "collapsed": false,
     "input": [
      "biomass_equation = PyFBA.metabolism.biomass_equation('gramnegative')"
     ],
     "language": "python",
     "metadata": {},
     "outputs": [],
     "prompt_number": 18
    },
    {
     "cell_type": "markdown",
     "metadata": {},
     "source": [
      "### Run the FBA\n",
      "\n",
      "With the reactions, compounds, reactions_to_run, media, and biomass model, we can test whether the model grows on this media"
     ]
    },
    {
     "cell_type": "code",
     "collapsed": false,
     "input": [
      "status, value, growth = PyFBA.fba.run_fba(compounds, reactions, reactions_to_run, media, biomass_equation, verbose=True)\n",
      "print(\"Initial run has \" + str(value) + \" --> Growth: \" + str(growth))"
     ],
     "language": "python",
     "metadata": {},
     "outputs": [
      {
       "output_type": "stream",
       "stream": "stdout",
       "text": [
        "Initial run has 0.0 --> Growth: False\n"
       ]
      },
      {
       "output_type": "stream",
       "stream": "stderr",
       "text": [
        "In parsing the bounds we found 65 media uptake and secretion reactions and 110 other u/s reactions\n",
        "Length of the media: 65\n",
        "Number of reactions to run: 1304\n",
        "Number of compounds in SM: 1276\n",
        "Number of reactions in SM: 1480\n",
        "Revised number of total reactions: 34871\n",
        "Number of total compounds: 45616\n",
        "SMat dimensions: 1276 x 1480\n"
       ]
      }
     ],
     "prompt_number": 19
    },
    {
     "cell_type": "markdown",
     "metadata": {},
     "source": [
      "## Gap fill the model\n",
      "\n",
      "Since the model does not grow on ArgonneLB we need to gap fill it to ensure growth. There are several ways that we can gap fill, and we will work through them until we get growth.\n",
      "\n",
      "As you will see, we update the reactions_to_run list each time, and keep the media and everything else consistent. Then we just need to run the FBA like we have done above and see if we get growth.\n",
      "\n",
      "We also keep a copy of the original reactions_to_run, and a list with all the reactions that we are adding, so once we are done we can go back and bisect the reactions that are added."
     ]
    },
    {
     "cell_type": "code",
     "collapsed": false,
     "input": [
      "added_reactions=[]\n",
      "original_reactions_to_run = copy.copy(reactions_to_run)"
     ],
     "language": "python",
     "metadata": {},
     "outputs": [],
     "prompt_number": 24
    },
    {
     "cell_type": "markdown",
     "metadata": {},
     "source": [
      "### Essential reactions\n",
      "\n",
      "There are ~100 reactions that are in every model we have tested, and we construe these to be essential for all models, so we typically add these first!"
     ]
    },
    {
     "cell_type": "code",
     "collapsed": false,
     "input": [
      "essential_reactions = PyFBA.gapfill.suggest_essential_reactions()\n",
      "added_reactions.append(essential_reactions)\n",
      "reactions_to_run.update(essential_reactions)"
     ],
     "language": "python",
     "metadata": {},
     "outputs": [],
     "prompt_number": 25
    },
    {
     "cell_type": "code",
     "collapsed": false,
     "input": [
      "status, value, growth = PyFBA.fba.run_fba(compounds, reactions, reactions_to_run, media, biomass_equation)\n",
      "print(\"FBA has \" + str(value) + \" --> Growth: \" + str(growth))"
     ],
     "language": "python",
     "metadata": {},
     "outputs": [
      {
       "output_type": "stream",
       "stream": "stdout",
       "text": [
        "FBA has 0.0 --> Growth: False\n"
       ]
      }
     ],
     "prompt_number": 28
    },
    {
     "cell_type": "markdown",
     "metadata": {},
     "source": [
      "### Media import reactions\n",
      "\n",
      "We need to make sure that the cell can import everything that is in the media ... otherwise it won't be able to grow. Obviously only do this step if you are sure that the cell can grow on the media you are testing."
     ]
    },
    {
     "cell_type": "code",
     "collapsed": false,
     "input": [
      "media_reactions = PyFBA.gapfill.suggest_from_media(compounds, reactions, reactions_to_run, media)\n",
      "added_reactions.append(media_reactions)\n",
      "reactions_to_run.update(media_reactions)"
     ],
     "language": "python",
     "metadata": {},
     "outputs": [],
     "prompt_number": 32
    },
    {
     "cell_type": "code",
     "collapsed": false,
     "input": [
      "status, value, growth = PyFBA.fba.run_fba(compounds, reactions, reactions_to_run, media, biomass_equation)\n",
      "print(\"FBA has \" + str(value) + \" --> Growth: \" + str(growth))"
     ],
     "language": "python",
     "metadata": {},
     "outputs": [
      {
       "output_type": "stream",
       "stream": "stdout",
       "text": [
        "FBA has 1.11493060109e-12 --> Growth: False\n"
       ]
      }
     ],
     "prompt_number": 33
    },
    {
     "cell_type": "markdown",
     "metadata": {},
     "source": [
      "### Subsystems\n",
      "\n",
      "The reactions connect us to subsystems, and this test ensures that all the subsystem are complete. We add reactions required to complete the subsystem."
     ]
    },
    {
     "cell_type": "code",
     "collapsed": false,
     "input": [
      "subsystem_reactions = PyFBA.gapfill.suggest_reactions_from_subsystems(reactions, reactions_to_run, threshold=0.5)\n",
      "added_reactions.append(subsystem_reactions)\n",
      "reactions_to_run.update(subsystem_reactions)"
     ],
     "language": "python",
     "metadata": {},
     "outputs": [],
     "prompt_number": 34
    },
    {
     "cell_type": "code",
     "collapsed": false,
     "input": [
      "status, value, growth = PyFBA.fba.run_fba(compounds, reactions, reactions_to_run, media, biomass_equation)\n",
      "print(\"FBA has \" + str(value) + \" --> Growth: \" + str(growth))"
     ],
     "language": "python",
     "metadata": {},
     "outputs": [
      {
       "output_type": "stream",
       "stream": "stdout",
       "text": [
        "FBA has 4.51193262361e-28 --> Growth: False\n"
       ]
      }
     ],
     "prompt_number": 35
    },
    {
     "cell_type": "markdown",
     "metadata": {},
     "source": [
      "### Orphan compounds\n",
      "\n",
      "Orphan compounds are those compounds which are only in one reaction. They are either produced, or trying to be consumed. We need to add reaction(s) that complete the network of those compounds.\n",
      "\n",
      "You can change the maximum number of reactions that a compound is in to be considered an orphan (try increasing it to 2 or 3)."
     ]
    },
    {
     "cell_type": "code",
     "collapsed": false,
     "input": [
      "orphan_reactions = PyFBA.gapfill.suggest_by_compound(compounds, reactions, reactions_to_run, max_reactions=1)\n",
      "added_reactions.append(orphan_reactions)\n",
      "reactions_to_run.update(orphan_reactions)"
     ],
     "language": "python",
     "metadata": {},
     "outputs": [],
     "prompt_number": 37
    },
    {
     "cell_type": "code",
     "collapsed": false,
     "input": [
      "status, value, growth = PyFBA.fba.run_fba(compounds, reactions, reactions_to_run, media, biomass_equation)\n",
      "print(\"FBA has \" + str(value) + \" --> Growth: \" + str(growth))"
     ],
     "language": "python",
     "metadata": {},
     "outputs": [
      {
       "ename": "MemoryError",
       "evalue": "",
       "output_type": "pyerr",
       "traceback": [
        "\u001b[0;31m---------------------------------------------------------------------------\u001b[0m\n\u001b[0;31mMemoryError\u001b[0m                               Traceback (most recent call last)",
        "\u001b[0;32m<ipython-input-38-eeee196c27f7>\u001b[0m in \u001b[0;36m<module>\u001b[0;34m()\u001b[0m\n\u001b[0;32m----> 1\u001b[0;31m \u001b[0mstatus\u001b[0m\u001b[0;34m,\u001b[0m \u001b[0mvalue\u001b[0m\u001b[0;34m,\u001b[0m \u001b[0mgrowth\u001b[0m \u001b[0;34m=\u001b[0m \u001b[0mPyFBA\u001b[0m\u001b[0;34m.\u001b[0m\u001b[0mfba\u001b[0m\u001b[0;34m.\u001b[0m\u001b[0mrun_fba\u001b[0m\u001b[0;34m(\u001b[0m\u001b[0mcompounds\u001b[0m\u001b[0;34m,\u001b[0m \u001b[0mreactions\u001b[0m\u001b[0;34m,\u001b[0m \u001b[0mreactions_to_run\u001b[0m\u001b[0;34m,\u001b[0m \u001b[0mmedia\u001b[0m\u001b[0;34m,\u001b[0m \u001b[0mbiomass_equation\u001b[0m\u001b[0;34m)\u001b[0m\u001b[0;34m\u001b[0m\u001b[0m\n\u001b[0m\u001b[1;32m      2\u001b[0m \u001b[0;32mprint\u001b[0m\u001b[0;34m(\u001b[0m\u001b[0;34m\"FBA has \"\u001b[0m \u001b[0;34m+\u001b[0m \u001b[0mstr\u001b[0m\u001b[0;34m(\u001b[0m\u001b[0mvalue\u001b[0m\u001b[0;34m)\u001b[0m \u001b[0;34m+\u001b[0m \u001b[0;34m\" --> Growth: \"\u001b[0m \u001b[0;34m+\u001b[0m \u001b[0mstr\u001b[0m\u001b[0;34m(\u001b[0m\u001b[0mgrowth\u001b[0m\u001b[0;34m)\u001b[0m\u001b[0;34m)\u001b[0m\u001b[0;34m\u001b[0m\u001b[0m\n",
        "\u001b[0;32m/data/PyFBA/PyFBA/fba/run_fba.pyc\u001b[0m in \u001b[0;36mrun_fba\u001b[0;34m(compounds, reactions, reactions_to_run, media, biomass_equation, uptake_secretion, verbose)\u001b[0m\n\u001b[1;32m     31\u001b[0m \u001b[0;34m\u001b[0m\u001b[0m\n\u001b[1;32m     32\u001b[0m     cp, rc, reactions = PyFBA.fba.create_stoichiometric_matrix(reactions_to_run, reactions, compounds, media, biomass_equation,\n\u001b[0;32m---> 33\u001b[0;31m                                                      uptake_secretion, verbose=False)\n\u001b[0m\u001b[1;32m     34\u001b[0m \u001b[0;34m\u001b[0m\u001b[0m\n\u001b[1;32m     35\u001b[0m     \u001b[0mrbvals\u001b[0m \u001b[0;34m=\u001b[0m \u001b[0mPyFBA\u001b[0m\u001b[0;34m.\u001b[0m\u001b[0mfba\u001b[0m\u001b[0;34m.\u001b[0m\u001b[0mreaction_bounds\u001b[0m\u001b[0;34m(\u001b[0m\u001b[0mreactions\u001b[0m\u001b[0;34m,\u001b[0m \u001b[0mrc\u001b[0m\u001b[0;34m,\u001b[0m \u001b[0mmedia\u001b[0m\u001b[0;34m,\u001b[0m \u001b[0mverbose\u001b[0m\u001b[0;34m=\u001b[0m\u001b[0mverbose\u001b[0m\u001b[0;34m)\u001b[0m\u001b[0;34m\u001b[0m\u001b[0m\n",
        "\u001b[0;32m/data/PyFBA/PyFBA/fba/create_stoichiometric_matrix.pyc\u001b[0m in \u001b[0;36mcreate_stoichiometric_matrix\u001b[0;34m(reactions_to_run, reactions, compounds, media, biomass_equation, uptake_secretion, verbose)\u001b[0m\n\u001b[1;32m    119\u001b[0m \u001b[0;34m\u001b[0m\u001b[0m\n\u001b[1;32m    120\u001b[0m     \u001b[0;31m# load the data into the model\u001b[0m\u001b[0;34m\u001b[0m\u001b[0;34m\u001b[0m\u001b[0m\n\u001b[0;32m--> 121\u001b[0;31m     \u001b[0mPyFBA\u001b[0m\u001b[0;34m.\u001b[0m\u001b[0mlp\u001b[0m\u001b[0;34m.\u001b[0m\u001b[0mload\u001b[0m\u001b[0;34m(\u001b[0m\u001b[0mdata\u001b[0m\u001b[0;34m,\u001b[0m \u001b[0mcp\u001b[0m\u001b[0;34m,\u001b[0m \u001b[0mrc\u001b[0m\u001b[0;34m)\u001b[0m\u001b[0;34m\u001b[0m\u001b[0m\n\u001b[0m\u001b[1;32m    122\u001b[0m \u001b[0;34m\u001b[0m\u001b[0m\n\u001b[1;32m    123\u001b[0m     \u001b[0;31m# now set the objective function.It is the biomass_equation\u001b[0m\u001b[0;34m\u001b[0m\u001b[0;34m\u001b[0m\u001b[0m\n",
        "\u001b[0;32m/data/PyFBA/PyFBA/lp/glpk_solver.pyc\u001b[0m in \u001b[0;36mload\u001b[0;34m(matrix, rowheaders, colheaders, verbose)\u001b[0m\n\u001b[1;32m     63\u001b[0m     \u001b[0;32mif\u001b[0m \u001b[0mverbose\u001b[0m \u001b[0;34m>\u001b[0m \u001b[0;36m4\u001b[0m\u001b[0;34m:\u001b[0m\u001b[0;34m\u001b[0m\u001b[0m\n\u001b[1;32m     64\u001b[0m         \u001b[0msys\u001b[0m\u001b[0;34m.\u001b[0m\u001b[0mstderr\u001b[0m\u001b[0;34m.\u001b[0m\u001b[0mwrite\u001b[0m\u001b[0;34m(\u001b[0m\u001b[0;34m\"Matrix: \"\u001b[0m \u001b[0;34m+\u001b[0m \u001b[0mstr\u001b[0m\u001b[0;34m(\u001b[0m\u001b[0mtemp\u001b[0m\u001b[0;34m)\u001b[0m \u001b[0;34m+\u001b[0m \u001b[0;34m\"\\n\"\u001b[0m\u001b[0;34m)\u001b[0m\u001b[0;34m\u001b[0m\u001b[0m\n\u001b[0;32m---> 65\u001b[0;31m     \u001b[0msolver\u001b[0m\u001b[0;34m.\u001b[0m\u001b[0mmatrix\u001b[0m \u001b[0;34m=\u001b[0m \u001b[0mtemp\u001b[0m\u001b[0;34m\u001b[0m\u001b[0m\n\u001b[0m\u001b[1;32m     66\u001b[0m \u001b[0;34m\u001b[0m\u001b[0m\n\u001b[1;32m     67\u001b[0m     \u001b[0;31m# name the rows and columns\u001b[0m\u001b[0;34m\u001b[0m\u001b[0;34m\u001b[0m\u001b[0m\n",
        "\u001b[0;31mMemoryError\u001b[0m: "
       ]
      }
     ],
     "prompt_number": 38
    },
    {
     "cell_type": "code",
     "collapsed": false,
     "input": [
      "reactions_to_run = original_reactions_to_run\n",
      "reactions_to_run.update(essential_reactions)\n",
      "reactions_to_run.update(media_reactions)\n",
      "reactions_to_run.update(subsystem_reactions)\n",
      "print(\"There are {} reactions to run\".format(len(reactions_to_run)))\n",
      "print(\"Orphans is {}\".format(len(orphan_reactions)))"
     ],
     "language": "python",
     "metadata": {},
     "outputs": [
      {
       "output_type": "stream",
       "stream": "stdout",
       "text": [
        "There are 1780 reactions to run\n",
        "Orphans is 3290\n"
       ]
      }
     ],
     "prompt_number": 41
    },
    {
     "cell_type": "markdown",
     "metadata": {},
     "source": [
      "### Reactions from closely related organisms\n",
      "\n",
      "We also gap fill on closely related organisms. We assume that an organism is most likely to have reactions in its genome that are similar to those in closely related organisms. \n",
      "\n",
      "\n",
      "\n"
     ]
    },
    {
     "cell_type": "code",
     "collapsed": false,
     "input": [
      "with open('our_reactions.txt', 'w') as out:\n",
      "    out.write(\"\\n\".join(reactions_to_run))"
     ],
     "language": "python",
     "metadata": {},
     "outputs": [],
     "prompt_number": 42
    },
    {
     "cell_type": "code",
     "collapsed": false,
     "input": [],
     "language": "python",
     "metadata": {},
     "outputs": []
    },
    {
     "cell_type": "code",
     "collapsed": false,
     "input": [
      "reactions_from_other_orgs = PyFBA.gapfill.suggest_from_roles(args.c, reactions, True)"
     ],
     "language": "python",
     "metadata": {},
     "outputs": []
    }
   ],
   "metadata": {}
  }
 ]
}