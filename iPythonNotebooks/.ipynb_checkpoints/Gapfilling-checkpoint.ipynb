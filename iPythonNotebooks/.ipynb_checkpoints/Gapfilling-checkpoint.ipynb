{
 "metadata": {
  "name": ""
 },
 "nbformat": 3,
 "nbformat_minor": 0,
 "worksheets": [
  {
   "cells": [
    {
     "cell_type": "markdown",
     "metadata": {},
     "source": [
      "# How to gapfill a genome scale metabolic model\n",
      "\n",
      "## Getting started\n",
      "\n",
      "### Installing libraries\n",
      "\n",
      "Before you start, you will need to install a couple of libraries:\n",
      "   \n",
      "The [ModelSeedDatabase](https://github.com/ModelSEED/ModelSEEDDatabase) has all the biochemistry we'll need. You can install that with `git clone`.\n",
      "   \n",
      "The [PyFBA](http://linsalrob.github.io/PyFBA) library has detailed [installation instructions](http://linsalrob.github.io/PyFBA/installation.html). Don't be scared, its mostly just `pip install`.\n",
      "\n",
      "(Optional) Also, get the [SEED Servers](https://github.com/linsalrob/SEED_Servers_Python) as you can get a lot of information from them. You can install the git python repo from github.  Make sure that the SEED_Servers_Python is in your PYTHONPATH.\n",
      "\n",
      "Lets import PyFBA module to get started"
     ]
    },
    {
     "cell_type": "code",
     "collapsed": false,
     "input": [
      "import PyFBA"
     ],
     "language": "python",
     "metadata": {},
     "outputs": [],
     "prompt_number": 3
    },
    {
     "cell_type": "markdown",
     "metadata": {},
     "source": [
      "## Using an SBML model\n",
      "\n",
      "If you have run your genome through RAST, you can download the [SBML](http://www.sbml.org/) model and use that directly.\n",
      "\n",
      "We have provided an [SBML model of *Citrobacter sedlakii*](https://raw.githubusercontent.com/linsalrob/PyFBA/master/example_data/Citrobacter/Citrobacter_sedlakii.sbml) that you can download and use. You can right/ctrl click on this link and save the SBML file in the same location you are running this iPython notebook.\n",
      "\n",
      "We use this SBML model to demonstrate the key points of the FBA approach: defining the reactions, including the boundary, or drainflux, reactions; the compounds, including the drain compounds; the media; and the reaction bounds. \n",
      "\n",
      "We'll take it step by step!\n",
      "\n",
      "We start by parsing the model:\n",
      "\n"
     ]
    },
    {
     "cell_type": "code",
     "collapsed": false,
     "input": [
      "sbml = PyFBA.parse.parse_sbml_file('Citrobacter_sedlakii.sbml')"
     ],
     "language": "python",
     "metadata": {},
     "outputs": [],
     "prompt_number": 10
    },
    {
     "cell_type": "markdown",
     "metadata": {},
     "source": [
      "### Find all the reactions and identify those that are boundary reactions\n",
      "\n",
      "We need a set of reactions to run in the model. In this case, we are going to run all the reactions in our SBML file. However, you can change this set if you want to knock out reactions, add reactions, or generally modify the model. We store those in the `reactions_to_run` set.\n",
      "\n",
      "The boundary reactions are compounds that are secreted but then need to be removed from the model. We usually include a consumption of those compounds that is open ended, as if they are draining away. We store those reactions in the `uptake_secretion_reactions` dictionary.\n"
     ]
    },
    {
     "cell_type": "code",
     "collapsed": false,
     "input": [
      "reactions = sbml.reactions\n",
      "reactions_to_run = set()\n",
      "uptake_secretion_reactions = {}\n",
      "biomass_equation = None\n",
      "for r in reactions:\n",
      "    if 'biomass_equation' in reactions[r].name.lower():\n",
      "        biomass_equation = reactions[r]\n",
      "        continue\n",
      "    is_boundary = False\n",
      "    for c in reactions[r].all_compounds():\n",
      "        if c.uptake_secretion:\n",
      "            is_boundary = True\n",
      "    if is_boundary:\n",
      "        reactions[r].is_uptake_secretion = True\n",
      "        uptake_secretion_reactions[r] = reactions[r]\n",
      "    else:\n",
      "        reactions_to_run.add(r)\n"
     ],
     "language": "python",
     "metadata": {},
     "outputs": [],
     "prompt_number": 11
    },
    {
     "cell_type": "code",
     "collapsed": false,
     "input": [],
     "language": "python",
     "metadata": {},
     "outputs": []
    },
    {
     "cell_type": "markdown",
     "metadata": {},
     "source": [
      "## Building the basic model\n",
      "\n",
      "We typically start with an assigned_functions file from RAST. The easiest way to find that is in the RAST directory by choosing `Genome Directory` from the Downloads menu on the job details page.\n",
      "\n",
      "For this example, [here is an assigned_functions file](https://github.com/linsalrob/PyFBA/blob/master/example_data/Citrobacter/ungapfilled_model/citrobacter.assigned_functions) from our *Citrobacter* model. Notice that it has two columns, the first column is the protein ID (using SEED standard IDs that start with fig|, and then have the taxonomy ID and version number of the genome, and then peg to indicate *protein encoding gene*, rna to indicate *RNA* or other acronym, followed by the feature number. After the tab is the *functional role* of that feature. Download that file to use in this test. \n",
      "\n",
      "With those three things in hand, we'll get started."
     ]
    },
    {
     "cell_type": "code",
     "collapsed": false,
     "input": [],
     "language": "python",
     "metadata": {},
     "outputs": []
    }
   ],
   "metadata": {}
  }
 ]
}